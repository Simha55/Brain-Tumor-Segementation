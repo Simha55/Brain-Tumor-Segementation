{
  "nbformat": 4,
  "nbformat_minor": 0,
  "metadata": {
    "kernelspec": {
      "language": "python",
      "display_name": "Python 3",
      "name": "python3"
    },
    "language_info": {
      "pygments_lexer": "ipython3",
      "nbconvert_exporter": "python",
      "version": "3.6.4",
      "file_extension": ".py",
      "codemirror_mode": {
        "name": "ipython",
        "version": 3
      },
      "name": "python",
      "mimetype": "text/x-python"
    },
    "colab": {
      "name": "brain-mri-segmentation.ipynb",
      "provenance": []
    }
  },
  "cells": [
    {
      "cell_type": "markdown",
      "metadata": {
        "id": "g80hJHhIXK6W"
      },
      "source": [
        "### Import necessary libraries"
      ]
    },
    {
      "cell_type": "code",
      "metadata": {
        "execution": {
          "iopub.status.busy": "2021-08-29T08:30:47.4924Z",
          "iopub.execute_input": "2021-08-29T08:30:47.492729Z",
          "iopub.status.idle": "2021-08-29T08:30:47.504215Z",
          "shell.execute_reply.started": "2021-08-29T08:30:47.492699Z",
          "shell.execute_reply": "2021-08-29T08:30:47.503231Z"
        },
        "trusted": true,
        "id": "uvIDmVjrXK6X"
      },
      "source": [
        "import os\n",
        "import random\n",
        "import pandas as pd\n",
        "import numpy as np\n",
        "import matplotlib.pyplot as plt\n",
        "%matplotlib inline\n",
        "import tensorflow as tf\n",
        "import cv2\n",
        "from glob import glob\n",
        "from tqdm import tqdm_notebook, tnrange\n",
        "from itertools import chain\n",
        "from skimage.io import imread, imshow, concatenate_images\n",
        "from skimage.transform import resize\n",
        "from skimage.morphology import label\n",
        "from skimage.color import rgb2gray\n",
        "from tensorflow.keras import Input\n",
        "from tensorflow.keras.models import Model, load_model, save_model\n",
        "from tensorflow.keras.layers import Input, Activation, BatchNormalization, Dropout, Lambda, Conv2D, Conv2DTranspose, MaxPooling2D, concatenate, AveragePooling2D, Dense, Flatten\n",
        "from tensorflow.keras.optimizers import Adam\n",
        "from tensorflow.keras.callbacks import EarlyStopping, ModelCheckpoint, ReduceLROnPlateau\n",
        "from tensorflow.keras import backend as K\n",
        "from tensorflow.keras.preprocessing.image import ImageDataGenerator\n",
        "from tensorflow.keras.callbacks import EarlyStopping, ModelCheckpoint"
      ],
      "execution_count": null,
      "outputs": []
    },
    {
      "cell_type": "code",
      "metadata": {
        "execution": {
          "iopub.status.busy": "2021-08-29T08:30:48.282351Z",
          "iopub.execute_input": "2021-08-29T08:30:48.282676Z",
          "iopub.status.idle": "2021-08-29T08:30:48.286457Z",
          "shell.execute_reply.started": "2021-08-29T08:30:48.282646Z",
          "shell.execute_reply": "2021-08-29T08:30:48.285361Z"
        },
        "trusted": true,
        "id": "9odi5xf7XK6b"
      },
      "source": [
        "IMAGE_SIZE = (256, 256)"
      ],
      "execution_count": null,
      "outputs": []
    },
    {
      "cell_type": "markdown",
      "metadata": {
        "id": "EYrwsp7rXK6c"
      },
      "source": [
        "### Loading Image path and Mask path"
      ]
    },
    {
      "cell_type": "code",
      "metadata": {
        "execution": {
          "iopub.status.busy": "2021-08-29T08:30:49.582221Z",
          "iopub.execute_input": "2021-08-29T08:30:49.582562Z",
          "iopub.status.idle": "2021-08-29T08:30:49.659068Z",
          "shell.execute_reply.started": "2021-08-29T08:30:49.582532Z",
          "shell.execute_reply": "2021-08-29T08:30:49.658276Z"
        },
        "trusted": true,
        "id": "4gKCS0EEXK6d"
      },
      "source": [
        "train_files = []\n",
        "mask_files = glob('path')\n",
        "\n",
        "for i in mask_files:\n",
        "    train_files.append(i.replace('_mask', ''))"
      ],
      "execution_count": null,
      "outputs": []
    },
    {
      "cell_type": "markdown",
      "metadata": {
        "id": "p9lg32XuXK6f"
      },
      "source": [
        "### Create Data Frame"
      ]
    },
    {
      "cell_type": "code",
      "metadata": {
        "execution": {
          "iopub.status.busy": "2021-08-29T08:30:50.624134Z",
          "iopub.execute_input": "2021-08-29T08:30:50.624522Z",
          "iopub.status.idle": "2021-08-29T08:30:54.914231Z",
          "shell.execute_reply.started": "2021-08-29T08:30:50.62449Z",
          "shell.execute_reply": "2021-08-29T08:30:54.913322Z"
        },
        "trusted": true,
        "id": "i0DRySeqXK6h"
      },
      "source": [
        "df = pd.DataFrame({\"image_path\": train_files, \"mask_path\":mask_files})\n",
        "\n",
        "def diagnosis(mask_path):\n",
        "    value = np.max(cv2.imread(mask_path))\n",
        "    if value:\n",
        "        return 1\n",
        "    else:\n",
        "        return 0\n",
        "\n",
        "df['mask'] = df[\"mask_path\"].apply(lambda x: diagnosis(x))"
      ],
      "execution_count": null,
      "outputs": []
    },
    {
      "cell_type": "markdown",
      "metadata": {
        "id": "39PLQqMPXK6k"
      },
      "source": [
        "* Mask = 0 -> no tumor\n",
        "* Mask = 1 -> tumor"
      ]
    },
    {
      "cell_type": "code",
      "metadata": {
        "execution": {
          "iopub.status.busy": "2021-08-29T08:30:54.948601Z",
          "iopub.execute_input": "2021-08-29T08:30:54.948999Z",
          "iopub.status.idle": "2021-08-29T08:31:00.241067Z",
          "shell.execute_reply.started": "2021-08-29T08:30:54.948963Z",
          "shell.execute_reply": "2021-08-29T08:31:00.240184Z"
        },
        "trusted": true,
        "id": "JKTjXwXgXK6n"
      },
      "source": [
        "fig, ax = plt.subplots(10,3,figsize=(20,45))\n",
        "for x in range(10):\n",
        "    i = random.randint(0, len(df))\n",
        "    img = cv2.imread(df['image_path'][i])\n",
        "    mask = cv2.imread(df['mask_path'][i])\n",
        "    ax[x][0].title.set_text(\"Brain MRI\")\n",
        "    ax[x][0].imshow(img)\n",
        "    ax[x][1].title.set_text(\"Mask - \" + str(df['mask'][i]))\n",
        "    ax[x][1].imshow(mask)\n",
        "    ax[x][2].title.set_text(\"Brain MRI with Mask\")\n",
        "    ax[x][2].imshow(img)\n",
        "    ax[x][2].imshow(mask, alpha=0.4)\n",
        "plt.tight_layout()"
      ],
      "execution_count": null,
      "outputs": []
    },
    {
      "cell_type": "markdown",
      "metadata": {
        "id": "h-olle4uXK6n"
      },
      "source": [
        "### Split data into Train, Validation and Test Set"
      ]
    },
    {
      "cell_type": "code",
      "metadata": {
        "execution": {
          "iopub.status.busy": "2021-08-29T08:31:00.242702Z",
          "iopub.execute_input": "2021-08-29T08:31:00.243014Z",
          "iopub.status.idle": "2021-08-29T08:31:00.26473Z",
          "shell.execute_reply.started": "2021-08-29T08:31:00.242982Z",
          "shell.execute_reply": "2021-08-29T08:31:00.263733Z"
        },
        "trusted": true,
        "id": "fVW1v8snXK6o"
      },
      "source": [
        "df['mask'] = df['mask'].apply(lambda x: str(x))\n",
        "df.info()"
      ],
      "execution_count": null,
      "outputs": []
    },
    {
      "cell_type": "code",
      "metadata": {
        "execution": {
          "iopub.status.busy": "2021-08-29T08:31:00.266312Z",
          "iopub.execute_input": "2021-08-29T08:31:00.266938Z",
          "iopub.status.idle": "2021-08-29T08:31:00.416718Z",
          "shell.execute_reply.started": "2021-08-29T08:31:00.266899Z",
          "shell.execute_reply": "2021-08-29T08:31:00.415907Z"
        },
        "trusted": true,
        "id": "IxlqMzJMXK6p"
      },
      "source": [
        "from sklearn.model_selection import train_test_split\n",
        "df_train, df_test = train_test_split(df, test_size=0.15)\n",
        "df_train, df_val = train_test_split(df_train, test_size=0.15)\n",
        "print(df_train.values.shape)\n",
        "print(df_val.values.shape)\n",
        "print(df_test.values.shape)"
      ],
      "execution_count": null,
      "outputs": []
    },
    {
      "cell_type": "markdown",
      "metadata": {
        "id": "1_LQ9TeYXK6q"
      },
      "source": [
        "### Data Generator and Data Augmentation"
      ]
    },
    {
      "cell_type": "code",
      "metadata": {
        "execution": {
          "iopub.status.busy": "2021-08-29T07:37:00.547091Z",
          "iopub.execute_input": "2021-08-29T07:37:00.547581Z",
          "iopub.status.idle": "2021-08-29T07:37:02.030812Z",
          "shell.execute_reply.started": "2021-08-29T07:37:00.547542Z",
          "shell.execute_reply": "2021-08-29T07:37:02.029856Z"
        },
        "trusted": true,
        "id": "o6CujjzzXK6q"
      },
      "source": [
        "datagen = ImageDataGenerator(rescale=1/255.)\n",
        "train_generator = datagen.flow_from_dataframe(df_train, \n",
        "                                             x_col='image_path',\n",
        "                                             y_col='mask',\n",
        "                                             class_mode='categorical',\n",
        "                                             batch_size=32,\n",
        "                                             shuffle=True,\n",
        "                                             target_size=IMAGE_SIZE)\n",
        "validation_generator = datagen.flow_from_dataframe(df_val,\n",
        "                                                  x_col='image_path',\n",
        "                                                  y_col='mask',\n",
        "                                                  class_mode='categorical',\n",
        "                                                  batch_size=32,\n",
        "                                                  shuffle=True,\n",
        "                                                  target_size=IMAGE_SIZE)\n",
        "test_generator = datagen.flow_from_dataframe(df_test,\n",
        "                                            x_col='image_path',\n",
        "                                            y_col='mask',\n",
        "                                            class_mode='categorical',\n",
        "                                            batch_size=32,\n",
        "                                            shuffle=False,\n",
        "                                            target_size=IMAGE_SIZE)"
      ],
      "execution_count": null,
      "outputs": []
    },
    {
      "cell_type": "markdown",
      "metadata": {
        "id": "eWMgzXDqXK6r"
      },
      "source": [
        "### Modeling"
      ]
    },
    {
      "cell_type": "markdown",
      "metadata": {
        "id": "qCU0N59DXK6s"
      },
      "source": [
        "* Using ResNet50 as base model for Classification"
      ]
    },
    {
      "cell_type": "code",
      "metadata": {
        "execution": {
          "iopub.status.busy": "2021-08-29T07:37:47.43541Z",
          "iopub.execute_input": "2021-08-29T07:37:47.43573Z",
          "iopub.status.idle": "2021-08-29T07:37:51.507705Z",
          "shell.execute_reply.started": "2021-08-29T07:37:47.4357Z",
          "shell.execute_reply": "2021-08-29T07:37:51.506791Z"
        },
        "trusted": true,
        "id": "4zPnVS6ZXK6t"
      },
      "source": [
        "from tensorflow.keras.applications.resnet50 import ResNet50\n",
        "from tensorflow.keras.applications.inception_v3 import InceptionV3\n",
        "from tensorflow.keras.applications.mobilenet_v2 import MobileNetV2\n",
        "from tensorflow.keras.applications.efficientnet import EfficientNetB0\n",
        "from tensorflow.keras.applications.inception_resnet_v2 import InceptionResNetV2\n",
        "\n",
        "base_model = ResNet50(weights = 'imagenet' ,include_top=False, input_tensor=Input(shape=(256,256,3)))\n",
        "for layer in base_model.layers:\n",
        "    layer.trainable = False\n",
        "\n",
        "x = base_model.output\n",
        "x = AveragePooling2D(pool_size=(4,4))(x)\n",
        "x = Flatten()(x)\n",
        "x = Dense(256, activation='relu')(x)\n",
        "x = Dropout(0.3)(x)\n",
        "x = Dense(256, activation='relu')(x)\n",
        "x = Dropout(0.3)(x)\n",
        "x = Dense(2, activation='softmax')(x)\n",
        "\n",
        "clf_model = Model(base_model.input, outputs=x)\n",
        "clf_model.compile(loss='categorical_crossentropy',\n",
        "                 optimizer='adam',\n",
        "                 metrics=['accuracy'])\n",
        "clf_model.summary()"
      ],
      "execution_count": null,
      "outputs": []
    },
    {
      "cell_type": "markdown",
      "metadata": {
        "id": "k0qJLtHqXK6u"
      },
      "source": [
        "### Define Callbacks"
      ]
    },
    {
      "cell_type": "code",
      "metadata": {
        "execution": {
          "iopub.status.busy": "2021-08-29T07:37:56.476983Z",
          "iopub.execute_input": "2021-08-29T07:37:56.477359Z",
          "iopub.status.idle": "2021-08-29T07:37:56.485693Z",
          "shell.execute_reply.started": "2021-08-29T07:37:56.47733Z",
          "shell.execute_reply": "2021-08-29T07:37:56.484777Z"
        },
        "trusted": true,
        "id": "q6j1CGP5XK6v"
      },
      "source": [
        "es = EarlyStopping(monitor='val_loss',\n",
        "                  mode='min',\n",
        "                  verbose=1,\n",
        "                  patience=30)\n",
        "checkpoint = ModelCheckpoint(filepath='clf_model.hdf5',\n",
        "                            verbose=1,\n",
        "                            save_best_only=True)\n",
        "reduce_lr = ReduceLROnPlateau(monitor='val_loss',\n",
        "                             mode='min',\n",
        "                             verbose=1,\n",
        "                             patience=5,\n",
        "                             min_denta=0.0001,\n",
        "                             factor=0.2)\n",
        "my_callbacks = [es, checkpoint, reduce_lr]\n"
      ],
      "execution_count": null,
      "outputs": []
    },
    {
      "cell_type": "markdown",
      "metadata": {
        "id": "w73hz61sXK6w"
      },
      "source": [
        "### Training model"
      ]
    },
    {
      "cell_type": "code",
      "metadata": {
        "execution": {
          "iopub.status.busy": "2021-08-28T21:36:33.42344Z",
          "iopub.execute_input": "2021-08-28T21:36:33.424219Z",
          "iopub.status.idle": "2021-08-28T21:47:06.487115Z",
          "shell.execute_reply.started": "2021-08-28T21:36:33.424173Z",
          "shell.execute_reply": "2021-08-28T21:47:06.4844Z"
        },
        "trusted": true,
        "id": "aJucuJWYXK6w"
      },
      "source": [
        "history = clf_model.fit(train_generator,\n",
        "                   epochs=100,\n",
        "                   steps_per_epoch= train_generator.n // train_generator.batch_size,\n",
        "                   validation_data=validation_generator,\n",
        "                   validation_steps = validation_generator.n // validation_generator.batch_size,\n",
        "                   callbacks= [es, checkpoint])"
      ],
      "execution_count": null,
      "outputs": []
    },
    {
      "cell_type": "markdown",
      "metadata": {
        "id": "V332fn7GXK6w"
      },
      "source": [
        "### Evaluate the model"
      ]
    },
    {
      "cell_type": "code",
      "metadata": {
        "execution": {
          "iopub.status.busy": "2021-08-28T21:47:20.001486Z",
          "iopub.execute_input": "2021-08-28T21:47:20.001951Z",
          "iopub.status.idle": "2021-08-28T21:47:20.456349Z",
          "shell.execute_reply.started": "2021-08-28T21:47:20.001891Z",
          "shell.execute_reply": "2021-08-28T21:47:20.455198Z"
        },
        "trusted": true,
        "id": "Uds3mXHQXK6x"
      },
      "source": [
        "plt.figure(figsize=(12,5))\n",
        "plt.subplot(1,2,1)\n",
        "plt.plot(history.history['loss'])\n",
        "plt.plot(history.history['val_loss'])\n",
        "plt.title('Loss')\n",
        "plt.ylim((0, 10))\n",
        "plt.ylabel('loss')\n",
        "plt.xlabel('Epochs')\n",
        "plt.legend(['train','val'])\n",
        "\n",
        "plt.subplot(1,2,2)\n",
        "plt.plot(history.history['accuracy'])\n",
        "plt.plot(history.history['val_accuracy'])\n",
        "plt.title('Accuracy')\n",
        "plt.ylabel('Accuracy')\n",
        "plt.xlabel('Epochs')\n",
        "plt.legend(['train', 'val'])"
      ],
      "execution_count": null,
      "outputs": []
    },
    {
      "cell_type": "code",
      "metadata": {
        "execution": {
          "iopub.status.busy": "2021-08-29T07:45:37.835307Z",
          "iopub.execute_input": "2021-08-29T07:45:37.835645Z",
          "iopub.status.idle": "2021-08-29T07:45:47.062073Z",
          "shell.execute_reply.started": "2021-08-29T07:45:37.83561Z",
          "shell.execute_reply": "2021-08-29T07:45:47.06127Z"
        },
        "trusted": true,
        "id": "FpG7EXbQXK6x"
      },
      "source": [
        "from keras.models import load_model\n",
        "my_model = load_model('../input/weights/resnet50_clf_model.hdf5')\n",
        "my_model.evaluate(test_generator)"
      ],
      "execution_count": null,
      "outputs": []
    },
    {
      "cell_type": "code",
      "metadata": {
        "execution": {
          "iopub.status.busy": "2021-08-29T07:56:13.840738Z",
          "iopub.execute_input": "2021-08-29T07:56:13.841123Z",
          "iopub.status.idle": "2021-08-29T07:56:16.245706Z",
          "shell.execute_reply.started": "2021-08-29T07:56:13.84109Z",
          "shell.execute_reply": "2021-08-29T07:56:16.244845Z"
        },
        "trusted": true,
        "id": "Ik8HYOOwXK6y"
      },
      "source": [
        "import seaborn as sns\n",
        "preds = my_model.predict(test_generator)\n",
        "print(preds)\n",
        "preds = np.argmax(preds, axis=1)\n",
        "labels = np.asarray(df_test['mask']).astype('int')\n",
        "from sklearn.metrics import accuracy_score, confusion_matrix, classification_report\n",
        "accuracy = accuracy_score(labels, preds)\n",
        "print(\"Accuracy: {:.3f}\".format(accuracy*100))\n",
        "\n",
        "cm = confusion_matrix(labels, preds)\n",
        "report = classification_report(labels, preds, labels=[0,1])\n",
        "print(report)\n",
        "plt.figure(figsize=(5,5))\n",
        "sns.heatmap(cm, annot=True)"
      ],
      "execution_count": null,
      "outputs": []
    },
    {
      "cell_type": "markdown",
      "metadata": {
        "id": "qkUhGgmwXK6y"
      },
      "source": [
        "### Data Generator, Data Augmentation and Adjust Data"
      ]
    },
    {
      "cell_type": "code",
      "metadata": {
        "execution": {
          "iopub.status.busy": "2021-08-29T08:31:17.552469Z",
          "iopub.execute_input": "2021-08-29T08:31:17.552797Z",
          "iopub.status.idle": "2021-08-29T08:31:17.561927Z",
          "shell.execute_reply.started": "2021-08-29T08:31:17.552766Z",
          "shell.execute_reply": "2021-08-29T08:31:17.560647Z"
        },
        "trusted": true,
        "id": "_Ms8zlA3XK6y"
      },
      "source": [
        "def train_generator(data_frame, batch_size, aug_dict,\n",
        "        image_color_mode=\"rgb\",\n",
        "        mask_color_mode=\"grayscale\",\n",
        "        image_save_prefix=\"image\",\n",
        "        mask_save_prefix=\"mask\",\n",
        "        save_to_dir=None,\n",
        "        target_size=(256,256),\n",
        "        seed=1):\n",
        "\n",
        "    image_datagen = ImageDataGenerator(**aug_dict)\n",
        "    mask_datagen = ImageDataGenerator(**aug_dict)\n",
        "    \n",
        "    image_generator = image_datagen.flow_from_dataframe(\n",
        "        data_frame,\n",
        "        x_col = \"image_path\",\n",
        "        class_mode = None,\n",
        "        color_mode = image_color_mode,\n",
        "        target_size = target_size,\n",
        "        batch_size = batch_size,\n",
        "        save_to_dir = save_to_dir,\n",
        "        save_prefix  = image_save_prefix,\n",
        "        seed = seed)\n",
        "\n",
        "    mask_generator = mask_datagen.flow_from_dataframe(\n",
        "        data_frame,\n",
        "        x_col = \"mask_path\",\n",
        "        class_mode = None,\n",
        "        color_mode = mask_color_mode,\n",
        "        target_size = target_size,\n",
        "        batch_size = batch_size,\n",
        "        save_to_dir = save_to_dir,\n",
        "        save_prefix  = mask_save_prefix,\n",
        "        seed = seed)\n",
        "\n",
        "    train_gen = zip(image_generator, mask_generator)\n",
        "    \n",
        "    for (img, mask) in train_gen:\n",
        "        img, mask = adjust_data(img, mask)\n",
        "        yield (img,mask)\n",
        "\n",
        "def adjust_data(img,mask):\n",
        "    img = img / 255.\n",
        "    mask = mask / 255.\n",
        "    mask[mask > 0.5] = 1\n",
        "    mask[mask <= 0.5] = 0\n",
        "    \n",
        "    return (img, mask)"
      ],
      "execution_count": null,
      "outputs": []
    },
    {
      "cell_type": "markdown",
      "metadata": {
        "id": "UniycqtlXK6z"
      },
      "source": [
        "### Define Loss function and Metrics"
      ]
    },
    {
      "cell_type": "code",
      "metadata": {
        "execution": {
          "iopub.status.busy": "2021-08-29T08:31:18.084833Z",
          "iopub.execute_input": "2021-08-29T08:31:18.085141Z",
          "iopub.status.idle": "2021-08-29T08:31:18.091805Z",
          "shell.execute_reply.started": "2021-08-29T08:31:18.085112Z",
          "shell.execute_reply": "2021-08-29T08:31:18.091014Z"
        },
        "trusted": true,
        "id": "Ovu-kMznXK6z"
      },
      "source": [
        "smooth=100\n",
        "\n",
        "def dice_coef(y_true, y_pred):\n",
        "    y_truef=K.flatten(y_true)\n",
        "    y_predf=K.flatten(y_pred)\n",
        "    And=K.sum(y_truef* y_predf)\n",
        "    return((2* And + smooth) / (K.sum(y_truef) + K.sum(y_predf) + smooth))\n",
        "\n",
        "def dice_coef_loss(y_true, y_pred):\n",
        "    return -dice_coef(y_true, y_pred)\n",
        "\n",
        "def iou(y_true, y_pred):\n",
        "    intersection = K.sum(y_true * y_pred)\n",
        "    sum_ = K.sum(y_true + y_pred)\n",
        "    jac = (intersection + smooth) / (sum_ - intersection + smooth)\n",
        "    return jac\n",
        "\n",
        "def jac_distance(y_true, y_pred):\n",
        "    y_truef=K.flatten(y_true)\n",
        "    y_predf=K.flatten(y_pred)\n",
        "\n",
        "    return - iou(y_true, y_pred)"
      ],
      "execution_count": null,
      "outputs": []
    },
    {
      "cell_type": "markdown",
      "metadata": {
        "id": "Pg30WSHIXK60"
      },
      "source": [
        "### Define UNet Model"
      ]
    },
    {
      "cell_type": "markdown",
      "metadata": {
        "id": "qe5H5GBVXK60"
      },
      "source": [
        "* Using UNet Model for Brain MRI Segmentation"
      ]
    },
    {
      "cell_type": "code",
      "metadata": {
        "execution": {
          "iopub.status.busy": "2021-08-29T08:31:19.190438Z",
          "iopub.execute_input": "2021-08-29T08:31:19.190784Z",
          "iopub.status.idle": "2021-08-29T08:31:19.212574Z",
          "shell.execute_reply.started": "2021-08-29T08:31:19.190753Z",
          "shell.execute_reply": "2021-08-29T08:31:19.211679Z"
        },
        "trusted": true,
        "id": "biLPHV_4XK61"
      },
      "source": [
        "def unet(input_size=(256,256,3)):\n",
        "    inputs = Input(input_size)\n",
        "    \n",
        "    conv1 = Conv2D(64, (3, 3), padding='same')(inputs)\n",
        "    bn1 = Activation('relu')(conv1)\n",
        "    conv1 = Conv2D(64, (3, 3), padding='same')(bn1)\n",
        "    bn1 = BatchNormalization(axis=3)(conv1)\n",
        "    bn1 = Activation('relu')(bn1)\n",
        "    pool1 = MaxPooling2D(pool_size=(2, 2))(bn1)\n",
        "\n",
        "    conv2 = Conv2D(128, (3, 3), padding='same')(pool1)\n",
        "    bn2 = Activation('relu')(conv2)\n",
        "    conv2 = Conv2D(128, (3, 3), padding='same')(bn2)\n",
        "    bn2 = BatchNormalization(axis=3)(conv2)\n",
        "    bn2 = Activation('relu')(bn2)\n",
        "    pool2 = MaxPooling2D(pool_size=(2, 2))(bn2)\n",
        "\n",
        "    conv3 = Conv2D(256, (3, 3), padding='same')(pool2)\n",
        "    bn3 = Activation('relu')(conv3)\n",
        "    conv3 = Conv2D(256, (3, 3), padding='same')(bn3)\n",
        "    bn3 = BatchNormalization(axis=3)(conv3)\n",
        "    bn3 = Activation('relu')(bn3)\n",
        "    pool3 = MaxPooling2D(pool_size=(2, 2))(bn3)\n",
        "\n",
        "    conv4 = Conv2D(512, (3, 3), padding='same')(pool3)\n",
        "    bn4 = Activation('relu')(conv4)\n",
        "    conv4 = Conv2D(512, (3, 3), padding='same')(bn4)\n",
        "    bn4 = BatchNormalization(axis=3)(conv4)\n",
        "    bn4 = Activation('relu')(bn4)\n",
        "    pool4 = MaxPooling2D(pool_size=(2, 2))(bn4)\n",
        "\n",
        "    conv5 = Conv2D(1024, (3, 3), padding='same')(pool4)\n",
        "    bn5 = Activation('relu')(conv5)\n",
        "    conv5 = Conv2D(1024, (3, 3), padding='same')(bn5)\n",
        "    bn5 = BatchNormalization(axis=3)(conv5)\n",
        "    bn5 = Activation('relu')(bn5)\n",
        "\n",
        "    up6 = concatenate([Conv2DTranspose(512, (2, 2), strides=(2, 2), padding='same')(bn5), conv4], axis=3)\n",
        "    conv6 = Conv2D(512, (3, 3), padding='same')(up6)\n",
        "    bn6 = Activation('relu')(conv6)\n",
        "    conv6 = Conv2D(512, (3, 3), padding='same')(bn6)\n",
        "    bn6 = BatchNormalization(axis=3)(conv6)\n",
        "    bn6 = Activation('relu')(bn6)\n",
        "\n",
        "    up7 = concatenate([Conv2DTranspose(256, (2, 2), strides=(2, 2), padding='same')(bn6), conv3], axis=3)\n",
        "    conv7 = Conv2D(256, (3, 3), padding='same')(up7)\n",
        "    bn7 = Activation('relu')(conv7)\n",
        "    conv7 = Conv2D(256, (3, 3), padding='same')(bn7)\n",
        "    bn7 = BatchNormalization(axis=3)(conv7)\n",
        "    bn7 = Activation('relu')(bn7)\n",
        "\n",
        "    up8 = concatenate([Conv2DTranspose(128, (2, 2), strides=(2, 2), padding='same')(bn7), conv2], axis=3)\n",
        "    conv8 = Conv2D(128, (3, 3), padding='same')(up8)\n",
        "    bn8 = Activation('relu')(conv8)\n",
        "    conv8 = Conv2D(128, (3, 3), padding='same')(bn8)\n",
        "    bn8 = BatchNormalization(axis=3)(conv8)\n",
        "    bn8 = Activation('relu')(bn8)\n",
        "\n",
        "    up9 = concatenate([Conv2DTranspose(64, (2, 2), strides=(2, 2), padding='same')(bn8), conv1], axis=3)\n",
        "    conv9 = Conv2D(64, (3, 3), padding='same')(up9)\n",
        "    bn9 = Activation('relu')(conv9)\n",
        "    conv9 = Conv2D(64, (3, 3), padding='same')(bn9)\n",
        "    bn9 = BatchNormalization(axis=3)(conv9)\n",
        "    bn9 = Activation('relu')(bn9)\n",
        "\n",
        "    conv10 = Conv2D(1, (1, 1), activation='sigmoid')(bn9)\n",
        "\n",
        "    return Model(inputs=[inputs], outputs=[conv10])\n",
        "\n",
        "def segnet(input_size=(256,256,3)):\n",
        "    inputs = Input(input_size)\n",
        "    \n",
        "    x = Conv2D(64, (3, 3), activation='relu', padding='same', kernel_initializer = tf.keras.initializers.he_normal(seed= 23))(inputs)\n",
        "    x = BatchNormalization()(x)\n",
        "    x = Conv2D(64, (3, 3), activation='relu', padding='same',  kernel_initializer = tf.keras.initializers.he_normal(seed= 43))(x)\n",
        "   # x = BatchNormalization()(x)\n",
        "    x = MaxPooling2D((2, 2), strides=(2, 2))(x)\n",
        "    x = Dropout(0.25)(x)\n",
        "    \n",
        "    x = Conv2D(128, (3, 3), activation='relu', padding='same', kernel_initializer = tf.keras.initializers.he_normal(seed= 32))(x)\n",
        "    x = BatchNormalization()(x)\n",
        "    x = Conv2D(128, (3, 3), activation='relu', padding='same', kernel_initializer = tf.keras.initializers.he_normal(seed= 41))(x)\n",
        "   # x = BatchNormalization()(x)\n",
        "    x = Conv2D(128, (3, 3), activation='relu', padding='same', kernel_initializer = tf.keras.initializers.he_normal(seed= 33))(x)\n",
        "    x = BatchNormalization()(x)\n",
        "    x = MaxPooling2D((2, 2), strides=(2, 2))(x)\n",
        "    x = Dropout(0.5)(x)\n",
        "\n",
        "    x = Conv2D(256, (3, 3), activation='relu', padding='same', kernel_initializer = tf.keras.initializers.he_normal(seed= 35))(x)\n",
        "    x = BatchNormalization()(x)\n",
        "    x = Conv2D(256, (3, 3), activation='relu', padding='same', kernel_initializer = tf.keras.initializers.he_normal(seed= 54))(x)\n",
        "    x = BatchNormalization()(x)\n",
        "    x = Conv2D(256, (3, 3), activation='relu', padding='same', kernel_initializer = tf.keras.initializers.he_normal(seed= 39))(x)\n",
        "    x = BatchNormalization()(x)\n",
        "    x = Dropout(0.5)(x)\n",
        "    \n",
        "    #Decoder\n",
        "    \n",
        "    x = UpSampling2D(size=(2, 2))(x)\n",
        "    x = Conv2D(128, kernel_size=3, activation='relu', padding='same', kernel_initializer = tf.keras.initializers.he_normal(seed= 45))(x)\n",
        "   # x = BatchNormalization()(x)\n",
        "    x = Conv2D(128, kernel_size=3, activation='relu', padding='same', kernel_initializer = tf.keras.initializers.he_normal(seed= 41))(x)\n",
        "    x = BatchNormalization()(x)\n",
        "    x = Conv2D(128, kernel_size=3, activation='relu', padding='same', kernel_initializer = tf.keras.initializers.he_normal(seed= 49))(x)\n",
        "    x = BatchNormalization()(x)\n",
        "    x = Dropout(0.25)(x)\n",
        "      \n",
        "    x = UpSampling2D(size=(2, 2))(x)\n",
        "    x = Conv2D(64, kernel_size=3, activation='relu', padding='same', kernel_initializer = tf.keras.initializers.he_normal(seed= 18))(x)\n",
        "    x = BatchNormalization()(x)\n",
        "    x = Conv2D(64, kernel_size=3, activation='relu', padding='same', kernel_initializer = tf.keras.initializers.he_normal(seed= 21))(x)\n",
        "    x = BatchNormalization()(x)\n",
        "    x = Conv2D(classes, kernel_size=3, activation='relu', padding='same', kernel_initializer = tf.keras.initializers.he_normal(seed= 16))(x)\n",
        "    x = Dropout(0.25)(x)\n",
        "  \n",
        "    x = Activation(\"softmax\")(x)\n",
        "    \n",
        "    model = Model(inputs, x)\n",
        "  \n",
        "    \n",
        "    return model\n",
        "\n",
        "    "
      ],
      "execution_count": null,
      "outputs": []
    },
    {
      "cell_type": "markdown",
      "metadata": {
        "id": "MBJO6fVPXK61"
      },
      "source": [
        "### Training"
      ]
    },
    {
      "cell_type": "code",
      "metadata": {
        "execution": {
          "iopub.status.busy": "2021-08-29T08:31:20.386621Z",
          "iopub.execute_input": "2021-08-29T08:31:20.386945Z",
          "iopub.status.idle": "2021-08-29T08:31:20.390698Z",
          "shell.execute_reply.started": "2021-08-29T08:31:20.386917Z",
          "shell.execute_reply": "2021-08-29T08:31:20.389858Z"
        },
        "trusted": true,
        "id": "Vee3tACNXK62"
      },
      "source": [
        "# Set parameters\n",
        "EPOCHS = 150\n",
        "BATCH_SIZE = 32\n",
        "learning_rate = 1e-4"
      ],
      "execution_count": null,
      "outputs": []
    },
    {
      "cell_type": "code",
      "metadata": {
        "execution": {
          "iopub.status.busy": "2021-08-29T08:31:21.236865Z",
          "iopub.execute_input": "2021-08-29T08:31:21.237181Z",
          "iopub.status.idle": "2021-08-29T09:43:15.416511Z",
          "shell.execute_reply.started": "2021-08-29T08:31:21.237151Z",
          "shell.execute_reply": "2021-08-29T09:43:15.411214Z"
        },
        "trusted": true,
        "id": "hjE5ZIA9XK63"
      },
      "source": [
        "train_generator_args = dict(rotation_range=0.2,\n",
        "                            width_shift_range=0.05,\n",
        "                            height_shift_range=0.05,\n",
        "                            shear_range=0.05,\n",
        "                            zoom_range=0.05,\n",
        "                            horizontal_flip=True,\n",
        "                            fill_mode='nearest')\n",
        "train_gen = train_generator(df_train, BATCH_SIZE,\n",
        "                                train_generator_args,\n",
        "                                target_size=IMAGE_SIZE)\n",
        "    \n",
        "test_gener = train_generator(df_val, BATCH_SIZE,\n",
        "                                dict(),\n",
        "                                target_size=IMAGE_SIZE)\n",
        "    \n",
        "model = unet(input_size=(IMAGE_SIZE[0], IMAGE_SIZE[1], 3))\n",
        "\n",
        "\n",
        "\n",
        "decay_rate = learning_rate / EPOCHS\n",
        "opt = Adam(lr=learning_rate, beta_1=0.9, beta_2=0.999, epsilon=None, decay=decay_rate, amsgrad=False)\n",
        "model.compile(optimizer=opt, loss=dice_coef_loss, metrics=[\"binary_accuracy\", iou, dice_coef])\n",
        "\n",
        "callbacks = [ModelCheckpoint('unet_brainMRI_seg.hdf5', verbose=1, save_best_only=True)]\n",
        "\n",
        "history = model.fit(train_gen,\n",
        "                    steps_per_epoch=len(df_train) / BATCH_SIZE, \n",
        "                    epochs=EPOCHS, \n",
        "                    callbacks=callbacks,\n",
        "                    validation_data = test_gener,\n",
        "                    validation_steps=len(df_val) / BATCH_SIZE)"
      ],
      "execution_count": null,
      "outputs": []
    },
    {
      "cell_type": "markdown",
      "metadata": {
        "id": "IuZSTeNdXK63"
      },
      "source": [
        "### Evaluate the model"
      ]
    },
    {
      "cell_type": "code",
      "metadata": {
        "execution": {
          "iopub.status.busy": "2021-08-29T09:43:15.419491Z",
          "iopub.status.idle": "2021-08-29T09:43:15.421633Z"
        },
        "trusted": true,
        "id": "qCRXbmauXK64"
      },
      "source": [
        "traindice = history.history['dice_coef']\n",
        "testdice = history.history['val_dice_coef']\n",
        "\n",
        "trainjaccard = history.history['iou']\n",
        "testjaccard = history.history['val_iou']\n",
        "\n",
        "trainloss = history.history['loss']\n",
        "testloss = history.history['val_loss']\n",
        "plt.figure(1)\n",
        "plt.plot(testloss, 'b-')\n",
        "plt.plot(trainloss,'r-')\n",
        "plt.xlabel('iteration')\n",
        "plt.ylabel('loss')\n",
        "plt.title('loss graph', fontsize = 15)\n",
        "plt.figure(2)\n",
        "plt.plot(traindice, 'r-')\n",
        "plt.plot(testdice, 'b-')\n",
        "plt.xlabel('iteration')\n",
        "plt.ylabel('accuracy')\n",
        "plt.title('accuracy graph', fontsize = 15)\n",
        "plt.show()"
      ],
      "execution_count": null,
      "outputs": []
    },
    {
      "cell_type": "code",
      "metadata": {
        "execution": {
          "iopub.status.busy": "2021-08-29T09:43:15.42512Z",
          "iopub.status.idle": "2021-08-29T09:43:15.427213Z"
        },
        "trusted": true,
        "id": "5ZVfsjM9XK64"
      },
      "source": [
        "test_gen = train_generator(df_test, BATCH_SIZE,\n",
        "                                dict(),\n",
        "                                target_size=IMAGE_SIZE)\n",
        "results = model.evaluate(test_gen, steps=len(df_test) / BATCH_SIZE)\n",
        "print(\"Test lost: \",results[0])\n",
        "print(\"Test IOU: \",results[1])\n",
        "print(\"Test Dice Coefficent: \",results[2])"
      ],
      "execution_count": null,
      "outputs": []
    },
    {
      "cell_type": "markdown",
      "metadata": {
        "id": "Iluw63dWXK65"
      },
      "source": [
        "### Visualize the Result"
      ]
    },
    {
      "cell_type": "code",
      "metadata": {
        "execution": {
          "iopub.status.busy": "2021-08-29T09:43:15.430533Z",
          "iopub.status.idle": "2021-08-29T09:43:15.432713Z"
        },
        "trusted": true,
        "id": "oUiUJZPyXK66"
      },
      "source": [
        "for i in range(30):\n",
        "    index=np.random.randint(1,len(df_test.index))\n",
        "    img = cv2.imread(df_test['image_path'].iloc[index])\n",
        "    img = cv2.resize(img ,IMAGE_SIZE)\n",
        "    img = img / 255\n",
        "    img = img[np.newaxis, :, :, :]\n",
        "    pred=model.predict(img)\n",
        "\n",
        "    plt.figure(figsize=(12,12))\n",
        "    plt.subplot(1,3,1)\n",
        "    plt.imshow(np.squeeze(img))\n",
        "    plt.title('Original Image')\n",
        "    plt.subplot(1,3,2)\n",
        "    plt.imshow(np.squeeze(cv2.imread(df_test['mask_path'].iloc[index])))\n",
        "    plt.title('Original Mask')\n",
        "    plt.subplot(1,3,3)\n",
        "    plt.imshow(np.squeeze(pred) > .5)\n",
        "    plt.title('Prediction')\n",
        "    plt.show()"
      ],
      "execution_count": null,
      "outputs": []
    }
  ]
}